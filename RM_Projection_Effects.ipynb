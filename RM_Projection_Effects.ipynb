{
 "cells": [
  {
   "cell_type": "markdown",
   "metadata": {},
   "source": [
    "# Calculate projection effects in redmapper\n",
    "Here, given the runpos.fit files recieved from Eli, I can calculate projection effects.\n",
    "\n",
    "So far, Eli has ran his runpos code on SDSS DR8 and des y1a1. This notebook should be able to handle either."
   ]
  },
  {
   "cell_type": "code",
   "execution_count": 1,
   "metadata": {
    "collapsed": true
   },
   "outputs": [],
   "source": [
    "#import everything\n",
    "import fitsio, sys, os\n",
    "import numpy as np\n",
    "from scipy.optimize import minimize\n",
    "import matplotlib.pyplot as plt\n",
    "%matplotlib inline"
   ]
  },
  {
   "cell_type": "code",
   "execution_count": 2,
   "metadata": {
    "collapsed": false
   },
   "outputs": [
    {
     "name": "stdout",
     "output_type": "stream",
     "text": [
      "(11170,) (11170,)\n",
      "(70,)\n",
      "(11170, 70)\n"
     ]
    }
   ],
   "source": [
    "#Get the data\n",
    "datapath = \"data_files/dr8_run_0.4_runpos.fit\"\n",
    "data, header = fitsio.read(datapath, header=True)\n",
    "lambda_true = data['LAMBDA_CHISQ']\n",
    "z_true = data['Z_LAMBDA']\n",
    "lambda_arrays = data['LAMBDA_CHISQS']\n",
    "z_domain = np.loadtxt(\"data_files/redshift_list.txt\")\n",
    "print lambda_true.shape, z_true.shape\n",
    "print z_domain.shape #This is how many redshifts we have sampled\n",
    "print lambda_arrays.shape"
   ]
  },
  {
   "cell_type": "markdown",
   "metadata": {},
   "source": [
    "Now we define a comparison function, as well as a model for $\\lambda(z)$."
   ]
  },
  {
   "cell_type": "code",
   "execution_count": 3,
   "metadata": {
    "collapsed": true
   },
   "outputs": [],
   "source": [
    "#Lambda model function\n",
    "def lambda_model(z, sigmaz, z_peak, lambda_peak):\n",
    "    return lambda_peak * np.exp(-0.5*(z_peak - z)**2/sigmaz**2)\n",
    "\n",
    "#The comparison function\n",
    "def comparison(params, z_domain, lambda_array):\n",
    "    z_peak, sigmaz, lambda_peak = params #Pull out the parameters\n",
    "    #Some priors\n",
    "    if any(params < 0.0): return np.inf\n",
    "    if z_peak > 4.0: return np.inf #Way too high redshift\n",
    "    if lambda_peak > 1000: return np.inf #Way too big\n",
    "    if sigmaz < 0.005: return np.inf #Avoids numerical issues\n",
    "    lam_model = lambda_model(z_domain, sigmaz, z_peak, lambda_peak)\n",
    "    X = (lambda_array - lam_model)**2/lam_model**2\n",
    "    indices = (lambda_array > max(lambda_array)*0.5) * (z_domain < 0.32) #THE SECOND PART IS SDSS SPECIFIC\n",
    "    return sum(X[indices])"
   ]
  },
  {
   "cell_type": "markdown",
   "metadata": {},
   "source": [
    "Try this procedure on a single cluster"
   ]
  },
  {
   "cell_type": "code",
   "execution_count": 4,
   "metadata": {
    "collapsed": false
   },
   "outputs": [
    {
     "name": "stdout",
     "output_type": "stream",
     "text": [
      " final_simplex: (array([[  1.13309862e-01,   3.41374506e-02,   1.05061011e+02],\n",
      "       [  1.13309818e-01,   3.41374233e-02,   1.05060958e+02],\n",
      "       [  1.13309811e-01,   3.41374533e-02,   1.05060944e+02],\n",
      "       [  1.13309791e-01,   3.41373625e-02,   1.05061105e+02]]), array([ 0.01392417,  0.01392417,  0.01392417,  0.01392417]))\n",
      "           fun: 0.013924166968684414\n",
      "       message: 'Optimization terminated successfully.'\n",
      "          nfev: 130\n",
      "           nit: 68\n",
      "        status: 0\n",
      "       success: True\n",
      "             x: array([  1.13309862e-01,   3.41374506e-02,   1.05061011e+02])\n"
     ]
    }
   ],
   "source": [
    "x0 = [z_true[0], 0.03, lambda_true[0]]\n",
    "result = minimize(comparison, x0=x0, args=(z_domain, lambda_arrays[0]), method='Nelder-Mead')\n",
    "zbest, szbest, lambest = result['x']\n",
    "print result"
   ]
  },
  {
   "cell_type": "markdown",
   "metadata": {},
   "source": [
    "Write a function that can create a comparison plot and test it on the cluster test."
   ]
  },
  {
   "cell_type": "code",
   "execution_count": null,
   "metadata": {
    "collapsed": false
   },
   "outputs": [
    {
     "data": {
      "image/png": "[encoded data removed]",
      "text/plain": [
       "<matplotlib.figure.Figure at 0x7f624178a090>"
      ]
     },
     "metadata": {},
     "output_type": "display_data"
    }
   ],
   "source": [
    "def make_plot(z_peak, sigmaz, lambda_peak, z_true, lambda_true, z_domain, lambda_array, save=False, index=None):\n",
    "    plt.plot(z_domain, lambda_array)\n",
    "    plt.scatter(z_true, lambda_true, marker='^')\n",
    "    plt.axvline(z_true, c='r')\n",
    "    plt.plot(z_domain, lambda_model(z_domain, sigmaz, z_peak, lambda_peak))\n",
    "    plt.ylabel(\"Richness\", fontsize=24)\n",
    "    plt.xlabel(\"Redshift\", fontsize=24)\n",
    "    if index is not None:\n",
    "        plt.title(\"Cluster %d\"%index)\n",
    "    plt.ylim(-10, max(plt.gca().get_ylim()))\n",
    "    return\n",
    "\n",
    "make_plot(zbest, szbest, lambest, z_true[0], lambda_true[0], z_domain, lambda_arrays[0], index=0)"
   ]
  },
  {
   "cell_type": "markdown",
   "metadata": {},
   "source": [
    "Great. Let's proceed with every other cluster and save the outputs."
   ]
  },
  {
   "cell_type": "code",
   "execution_count": null,
   "metadata": {
    "collapsed": false
   },
   "outputs": [
    {
     "name": "stdout",
     "output_type": "stream",
     "text": [
      "At cluster 0\n",
      "At cluster 500\n",
      "At cluster 1000\n",
      "At cluster 1500\n"
     ]
    },
    {
     "name": "stderr",
     "output_type": "stream",
     "text": [
      "/home/tmcclintock/anaconda2/lib/python2.7/site-packages/ipykernel/__main__.py:14: RuntimeWarning: divide by zero encountered in divide\n",
      "/home/tmcclintock/anaconda2/lib/python2.7/site-packages/ipykernel/__main__.py:14: RuntimeWarning: overflow encountered in divide\n"
     ]
    },
    {
     "name": "stdout",
     "output_type": "stream",
     "text": [
      "At cluster 2000\n",
      "At cluster 2500\n",
      "At cluster 3000\n",
      "At cluster 3500\n",
      "At cluster 4000\n",
      "At cluster 4500\n"
     ]
    },
    {
     "name": "stderr",
     "output_type": "stream",
     "text": [
      "/home/tmcclintock/anaconda2/lib/python2.7/site-packages/scipy/optimize/optimize.py:528: RuntimeWarning: invalid value encountered in subtract\n",
      "  numpy.max(numpy.abs(fsim[0] - fsim[1:])) <= fatol):\n"
     ]
    },
    {
     "name": "stdout",
     "output_type": "stream",
     "text": [
      "At cluster 5000\n",
      "At cluster 5500\n"
     ]
    }
   ],
   "source": [
    "N = len(lambda_arrays)\n",
    "sz_all = np.zeros((N)) #sigmaz for all clusters\n",
    "zp_all = np.zeros((N)) #z_peak for all clusters\n",
    "lp_all = np.zeros((N)) #lambda_peak for all clusters\n",
    "for i in xrange(0,N):\n",
    "    x0 = [z_true[i], 0.03, lambda_true[i]]\n",
    "    result = minimize(comparison, x0=x0, args=(z_domain, lambda_arrays[i]), method='Nelder-Mead')\n",
    "    zp_all[i], sz_all[i], lp_all[i] = result['x']\n",
    "    if i%500==0: print \"At cluster %d\"%i\n",
    "outpath = \"output_files/\"\n",
    "dataset = 'dr8_0.4_'\n",
    "np.savetxt(outpath+dataset+\"zpeak.txt\",zp_all)\n",
    "np.savetxt(outpath+dataset+\"sigmaz.txt\",sz_all)\n",
    "np.savetxt(outpath+dataset+\"lambdapeak.txt\",lp_all)\n",
    "print \"Saved successfully.\""
   ]
  },
  {
   "cell_type": "markdown",
   "metadata": {},
   "source": [
    "Make the scatter plot of the resulting $\\sigma_z(z)$ points."
   ]
  },
  {
   "cell_type": "code",
   "execution_count": null,
   "metadata": {
    "collapsed": false
   },
   "outputs": [],
   "source": [
    "#First split by richnesses\n",
    "colors = ['g','r','b']\n",
    "edges = [20, 30, 60, 9999]\n",
    "for i in range(len(edges) - 1):\n",
    "    lo = edges[i]\n",
    "    hi = edges[i+1]\n",
    "    indices = (lambda_true >= lo) * (lambda_true < hi)\n",
    "    plt.scatter(z_true[indices], sz_all[indices], c=colors[i], label=r'$\\lambda\\in(%d,%d)$'%(lo,hi), alpha=0.2)\n",
    "plt.xlabel('Redshift', fontsize=24)\n",
    "plt.ylabel(r'$\\sigma_z$', fontsize=24)\n",
    "plt.legend(loc='upper left')\n",
    "plt.ylim(0,.2)"
   ]
  },
  {
   "cell_type": "markdown",
   "metadata": {},
   "source": [
    "Looks like there is a trend, but it is difficult to tell without inspecting everything individually whether there are significant outliers."
   ]
  },
  {
   "cell_type": "code",
   "execution_count": null,
   "metadata": {
    "collapsed": true
   },
   "outputs": [],
   "source": []
  }
 ],
 "metadata": {
  "kernelspec": {
   "display_name": "Python 2",
   "language": "python",
   "name": "python2"
  },
  "language_info": {
   "codemirror_mode": {
    "name": "ipython",
    "version": 2
   },
   "file_extension": ".py",
   "mimetype": "text/x-python",
   "name": "python",
   "nbconvert_exporter": "python",
   "pygments_lexer": "ipython2",
   "version": "2.7.12"
  }
 },
 "nbformat": 4,
 "nbformat_minor": 0
}
